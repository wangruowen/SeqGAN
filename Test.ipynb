{
 "cells": [
  {
   "cell_type": "code",
   "execution_count": 1,
   "metadata": {},
   "outputs": [
    {
     "name": "stderr",
     "output_type": "stream",
     "text": [
      "Using TensorFlow backend.\n"
     ]
    }
   ],
   "source": [
    "import numpy as np\n",
    "import random\n",
    "import linecache\n",
    "import re\n",
    "import csv\n",
    "import os\n",
    "import sys\n",
    "from collections import Counter\n",
    "\n",
    "from keras.utils import Sequence\n",
    "from keras.utils.np_utils import to_categorical\n",
    "from keras.preprocessing.text import Tokenizer, text_to_word_sequence\n",
    "from keras.preprocessing.sequence import pad_sequences\n",
    "\n",
    "%load_ext autoreload\n",
    "%autoreload 2"
   ]
  },
  {
   "cell_type": "code",
   "execution_count": 2,
   "metadata": {},
   "outputs": [
    {
     "data": {
      "text/plain": [
       "['',\n",
       " '/home/ubuntu/src/cntk/bindings/python',\n",
       " '/home/ubuntu/anaconda3/lib/python36.zip',\n",
       " '/home/ubuntu/anaconda3/lib/python3.6',\n",
       " '/home/ubuntu/anaconda3/lib/python3.6/lib-dynload',\n",
       " '/home/ubuntu/anaconda3/lib/python3.6/site-packages',\n",
       " '/home/ubuntu/anaconda3/lib/python3.6/site-packages/IPython/extensions',\n",
       " '/home/ubuntu/.ipython']"
      ]
     },
     "execution_count": 2,
     "metadata": {},
     "output_type": "execute_result"
    }
   ],
   "source": [
    "sys.path"
   ]
  },
  {
   "cell_type": "code",
   "execution_count": 17,
   "metadata": {},
   "outputs": [],
   "source": [
    "from SeqGAN.train import *\n",
    "from SeqGAN.models import *"
   ]
  },
  {
   "cell_type": "code",
   "execution_count": 18,
   "metadata": {},
   "outputs": [],
   "source": [
    "config ={\n",
    "    'batch_size': 64,\n",
    "    'max_length': 20,\n",
    "    'max_words': 10000,\n",
    "    'gen_embed': 100,\n",
    "    'dis_embed': 100,\n",
    "    'gen_hidden': 128,\n",
    "    'dis_hidden': 128,\n",
    "    'dis_dropout': 0.2,\n",
    "    'gen_lr': 1e-3,\n",
    "    'dis_lr': 1e-3,\n",
    "    'mcts_sample': 16,\n",
    "    'gen_samples': 10000,\n",
    "\n",
    "    'rnn_layers': 3,\n",
    "    'rnn_bidirectional': False,\n",
    "\n",
    "    'gen_pretrain_epoch': 10,\n",
    "    'dis_pretrain_epoch': 1,\n",
    "    \n",
    "}"
   ]
  },
  {
   "cell_type": "code",
   "execution_count": 19,
   "metadata": {},
   "outputs": [
    {
     "name": "stdout",
     "output_type": "stream",
     "text": [
      "Total word2id:  1194\n",
      "Total id2word:  1194\n"
     ]
    }
   ],
   "source": [
    "trainer = Trainer(config, \"./trump\")"
   ]
  },
  {
   "cell_type": "code",
   "execution_count": 20,
   "metadata": {
    "scrolled": false
   },
   "outputs": [
    {
     "name": "stdout",
     "output_type": "stream",
     "text": [
      "Generator pre-training\n",
      "_________________________________________________________________\n",
      "Layer (type)                 Output Shape              Param #   \n",
      "=================================================================\n",
      "Input (InputLayer)           (None, 20)                0         \n",
      "_________________________________________________________________\n",
      "Embedding (Embedding)        (None, 20, 100)           119400    \n",
      "_________________________________________________________________\n",
      "rnn_1 (LSTM)                 (None, 20, 128)           117248    \n",
      "_________________________________________________________________\n",
      "rnn_2 (LSTM)                 (None, 20, 128)           131584    \n",
      "_________________________________________________________________\n",
      "rnn_3 (LSTM)                 (None, 128)               131584    \n",
      "_________________________________________________________________\n",
      "DenseSoftmax (Dense)         (None, 1194)              154026    \n",
      "=================================================================\n",
      "Total params: 653,842\n",
      "Trainable params: 653,842\n",
      "Non-trainable params: 0\n",
      "_________________________________________________________________\n",
      "Epoch 1/5\n",
      "Num of training:  10103\n",
      "Num of validation:  0\n",
      "1/1 [==============================] - 7s 7s/step - loss: 7.0851\n",
      "Epoch 2/5\n",
      "1/1 [==============================] - 0s 112ms/step - loss: 7.0837\n",
      "Epoch 3/5\n",
      "1/1 [==============================] - 0s 110ms/step - loss: 7.0818\n",
      "Epoch 4/5\n",
      "1/1 [==============================] - 0s 117ms/step - loss: 7.0790\n",
      "Epoch 5/5\n",
      "1/1 [==============================] - 0s 115ms/step - loss: 7.0740\n"
     ]
    }
   ],
   "source": [
    "trainer.pre_train_generator(g_epochs=5)"
   ]
  },
  {
   "cell_type": "code",
   "execution_count": 21,
   "metadata": {},
   "outputs": [
    {
     "name": "stdout",
     "output_type": "stream",
     "text": [
      "Start Generating sentences\n",
      "_________________________________________________________________\n",
      "Layer (type)                 Output Shape              Param #   \n",
      "=================================================================\n",
      "Input (InputLayer)           (None, 20)                0         \n",
      "_________________________________________________________________\n",
      "Embedding (Embedding)        (None, 20, 100)           119400    \n",
      "_________________________________________________________________\n",
      "rnn_1 (LSTM)                 (None, 20, 128)           117248    \n",
      "_________________________________________________________________\n",
      "rnn_2 (LSTM)                 (None, 20, 128)           131584    \n",
      "_________________________________________________________________\n",
      "rnn_3 (LSTM)                 (None, 128)               131584    \n",
      "_________________________________________________________________\n",
      "Dropout (Dropout)            (None, 128)               0         \n",
      "_________________________________________________________________\n",
      "FC (Dense)                   (None, 1)                 129       \n",
      "=================================================================\n",
      "Total params: 499,945\n",
      "Trainable params: 499,945\n",
      "Non-trainable params: 0\n",
      "_________________________________________________________________\n",
      "Discriminator pre-training\n",
      "Epoch 1/1\n",
      "Num of training:  229417\n",
      "Num of validation:  0\n",
      "156/156 [==============================] - 25s 160ms/step - loss: 0.1079\n"
     ]
    }
   ],
   "source": [
    "trainer.pre_train_discriminator()"
   ]
  },
  {
   "cell_type": "code",
   "execution_count": null,
   "metadata": {},
   "outputs": [],
   "source": []
  }
 ],
 "metadata": {
  "kernelspec": {
   "display_name": "Python 3",
   "language": "python",
   "name": "python3"
  },
  "language_info": {
   "codemirror_mode": {
    "name": "ipython",
    "version": 3
   },
   "file_extension": ".py",
   "mimetype": "text/x-python",
   "name": "python",
   "nbconvert_exporter": "python",
   "pygments_lexer": "ipython3",
   "version": "3.6.5"
  }
 },
 "nbformat": 4,
 "nbformat_minor": 2
}
