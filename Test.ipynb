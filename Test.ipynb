{
 "cells": [
  {
   "cell_type": "code",
   "execution_count": 1,
   "metadata": {},
   "outputs": [
    {
     "name": "stderr",
     "output_type": "stream",
     "text": [
      "Using TensorFlow backend.\n"
     ]
    }
   ],
   "source": [
    "import numpy as np\n",
    "import random\n",
    "import linecache\n",
    "import re\n",
    "import csv\n",
    "import os\n",
    "import sys\n",
    "import tensorflow as tf\n",
    "from collections import Counter\n",
    "\n",
    "from keras.utils import Sequence\n",
    "from keras.utils.np_utils import to_categorical\n",
    "from keras.preprocessing.text import Tokenizer, text_to_word_sequence\n",
    "from keras.preprocessing.sequence import pad_sequences\n",
    "\n",
    "%load_ext autoreload\n",
    "%autoreload 2"
   ]
  },
  {
   "cell_type": "code",
   "execution_count": 2,
   "metadata": {},
   "outputs": [
    {
     "data": {
      "text/plain": [
       "['',\n",
       " '/home/wangruowen/.pyenv/versions/3.6.3/lib/python36.zip',\n",
       " '/home/wangruowen/.pyenv/versions/3.6.3/lib/python3.6',\n",
       " '/home/wangruowen/.pyenv/versions/3.6.3/lib/python3.6/lib-dynload',\n",
       " '/home/wangruowen/.pyenv/versions/3.6.3/lib/python3.6/site-packages',\n",
       " '/home/wangruowen/.pyenv/versions/3.6.3/lib/python3.6/site-packages/IPython/extensions',\n",
       " '/home/wangruowen/.ipython']"
      ]
     },
     "execution_count": 2,
     "metadata": {},
     "output_type": "execute_result"
    }
   ],
   "source": [
    "sys.path"
   ]
  },
  {
   "cell_type": "code",
   "execution_count": 3,
   "metadata": {},
   "outputs": [],
   "source": [
    "from SeqGAN.train import *\n",
    "from SeqGAN.models import *"
   ]
  },
  {
   "cell_type": "code",
   "execution_count": 4,
   "metadata": {},
   "outputs": [],
   "source": [
    "config ={\n",
    "    'batch_size': 128,\n",
    "    'max_length': 15,\n",
    "    'max_words': 10000,\n",
    "    'gen_embed': 100,\n",
    "    'dis_embed': 100,\n",
    "    'gen_hidden': 128,\n",
    "    'dis_hidden': 128,\n",
    "    'dis_dropout': 0.2,\n",
    "    'gen_lr': 1e-3,\n",
    "    'dis_lr': 1e-3,\n",
    "    'mcts_sample': 16,\n",
    "    'gen_samples': 10000,\n",
    "\n",
    "    'rnn_layers': 3,\n",
    "    'rnn_bidirectional': False,\n",
    "\n",
    "    'gen_pretrain_epoch': 10,\n",
    "    'dis_pretrain_epoch': 1,\n",
    "    \n",
    "}"
   ]
  },
  {
   "cell_type": "code",
   "execution_count": 5,
   "metadata": {},
   "outputs": [
    {
     "name": "stdout",
     "output_type": "stream",
     "text": [
      "Total word2id:  10004\n",
      "Total id2word:  10004\n",
      "Num of positive training:  398450\n",
      "Num of positive validation:  0\n",
      "WARNING:tensorflow:From /home/wangruowen/.pyenv/versions/3.6.3/lib/python3.6/site-packages/tensorflow/python/framework/op_def_library.py:263: colocate_with (from tensorflow.python.framework.ops) is deprecated and will be removed in a future version.\n",
      "Instructions for updating:\n",
      "Colocations handled automatically by placer.\n",
      "WARNING:tensorflow:From /home/wangruowen/.pyenv/versions/3.6.3/lib/python3.6/site-packages/tensorflow/python/ops/math_ops.py:3066: to_int32 (from tensorflow.python.ops.math_ops) is deprecated and will be removed in a future version.\n",
      "Instructions for updating:\n",
      "Use tf.cast instead.\n",
      "WARNING:tensorflow:From /home/wangruowen/.pyenv/versions/3.6.3/lib/python3.6/site-packages/keras/backend/tensorflow_backend.py:3445: calling dropout (from tensorflow.python.ops.nn_ops) with keep_prob is deprecated and will be removed in a future version.\n",
      "Instructions for updating:\n",
      "Please use `rate` instead of `keep_prob`. Rate should be set to `rate = 1 - keep_prob`.\n"
     ]
    }
   ],
   "source": [
    "trainer = Trainer(config, \"./data/just_tweet_without_I_will_be_interviewed\")"
   ]
  },
  {
   "cell_type": "code",
   "execution_count": 6,
   "metadata": {
    "scrolled": false
   },
   "outputs": [
    {
     "name": "stdout",
     "output_type": "stream",
     "text": [
      "Generator pre-training\n",
      "_________________________________________________________________\n",
      "Layer (type)                 Output Shape              Param #   \n",
      "=================================================================\n",
      "Input (InputLayer)           (None, 15)                0         \n",
      "_________________________________________________________________\n",
      "Embedding (Embedding)        (None, 15, 100)           1000400   \n",
      "_________________________________________________________________\n",
      "rnn_1 (CuDNNLSTM)            (None, 15, 128)           117760    \n",
      "_________________________________________________________________\n",
      "rnn_2 (CuDNNLSTM)            (None, 15, 128)           132096    \n",
      "_________________________________________________________________\n",
      "rnn_3 (CuDNNLSTM)            (None, 128)               132096    \n",
      "_________________________________________________________________\n",
      "DenseSoftmax (Dense)         (None, 10004)             1290516   \n",
      "=================================================================\n",
      "Total params: 2,672,868\n",
      "Trainable params: 2,672,868\n",
      "Non-trainable params: 0\n",
      "_________________________________________________________________\n",
      "Epoch 1/5\n",
      "3112/3112 [==============================] - 30s 10ms/step - loss: 6.2216\n",
      "Epoch 2/5\n",
      "3112/3112 [==============================] - 29s 9ms/step - loss: 5.5531\n",
      "Epoch 3/5\n",
      "3112/3112 [==============================] - 28s 9ms/step - loss: 5.1872\n",
      "Epoch 4/5\n",
      "3112/3112 [==============================] - 28s 9ms/step - loss: 4.9275\n",
      "Epoch 5/5\n",
      "3112/3112 [==============================] - 28s 9ms/step - loss: 4.7350\n"
     ]
    }
   ],
   "source": [
    "trainer.pre_train_generator(g_epochs=5)"
   ]
  },
  {
   "cell_type": "code",
   "execution_count": 7,
   "metadata": {},
   "outputs": [
    {
     "name": "stdout",
     "output_type": "stream",
     "text": [
      "Start Generating sentences\n",
      "Num of all training:  560523\n",
      "Num of all validation:  0\n",
      "_________________________________________________________________\n",
      "Layer (type)                 Output Shape              Param #   \n",
      "=================================================================\n",
      "Input (InputLayer)           (None, 15)                0         \n",
      "_________________________________________________________________\n",
      "Embedding (Embedding)        (None, 15, 100)           1000400   \n",
      "_________________________________________________________________\n",
      "rnn_1 (CuDNNLSTM)            (None, 15, 128)           117760    \n",
      "_________________________________________________________________\n",
      "rnn_2 (CuDNNLSTM)            (None, 15, 128)           132096    \n",
      "_________________________________________________________________\n",
      "rnn_3 (CuDNNLSTM)            (None, 128)               132096    \n",
      "_________________________________________________________________\n",
      "Dropout (Dropout)            (None, 128)               0         \n",
      "_________________________________________________________________\n",
      "FC (Dense)                   (None, 1)                 129       \n",
      "=================================================================\n",
      "Total params: 1,382,481\n",
      "Trainable params: 1,382,481\n",
      "Non-trainable params: 0\n",
      "_________________________________________________________________\n",
      "Discriminator pre-training\n",
      "Epoch 1/1\n",
      "4379/4379 [==============================] - 26s 6ms/step - loss: 0.2287\n"
     ]
    }
   ],
   "source": [
    "trainer.pre_train_discriminator()"
   ]
  },
  {
   "cell_type": "code",
   "execution_count": null,
   "metadata": {},
   "outputs": [],
   "source": []
  }
 ],
 "metadata": {
  "kernelspec": {
   "display_name": "Python 3",
   "language": "python",
   "name": "python3"
  },
  "language_info": {
   "codemirror_mode": {
    "name": "ipython",
    "version": 3
   },
   "file_extension": ".py",
   "mimetype": "text/x-python",
   "name": "python",
   "nbconvert_exporter": "python",
   "pygments_lexer": "ipython3",
   "version": "3.6.3"
  }
 },
 "nbformat": 4,
 "nbformat_minor": 2
}
